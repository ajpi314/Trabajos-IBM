{
  "metadata": {
    "kernelspec": {
      "name": "python",
      "display_name": "Python (Pyodide)",
      "language": "python"
    },
    "language_info": {
      "codemirror_mode": {
        "name": "python",
        "version": 3
      },
      "file_extension": ".py",
      "mimetype": "text/x-python",
      "name": "python",
      "nbconvert_exporter": "python",
      "pygments_lexer": "ipython3",
      "version": "3.8"
    }
  },
  "nbformat_minor": 5,
  "nbformat": 4,
  "cells": [
    {
      "id": "15644b26-f460-45bf-84a3-05f1b60bb18d",
      "cell_type": "markdown",
      "source": "Ejercicio 2: Crea una celda Markdown con el título el cuaderno.",
      "metadata": {}
    },
    {
      "id": "c76457ae-f95b-46ea-bffa-26d7affb52e4",
      "cell_type": "markdown",
      "source": "# Mi proyecto de Ciencia de datos.",
      "metadata": {
        "tags": [],
        "editable": true,
        "slideshow": {
          "slide_type": ""
        }
      }
    },
    {
      "id": "3e653bd0-507a-4263-a014-1549e16b462e",
      "cell_type": "markdown",
      "source": "Ejercicio 3: Cree una celda markdown para una introducción. ",
      "metadata": {}
    },
    {
      "id": "98bd36f1-fe60-44a8-9ff5-72b7a92525f1",
      "cell_type": "markdown",
      "source": "## Introducción\n\n### En este proyecto, se repasará conceptos de la ciencia de datos y conceptos básicos de Jupyter, Python, R y Github.",
      "metadata": {}
    },
    {
      "id": "e15e5b3f-73e3-4f7f-86b7-cc214f65b40f",
      "cell_type": "markdown",
      "source": "Ejercicio 4: Crea una celda Markdown para enumerar los lenguajes de la ciencia de datos.",
      "metadata": {}
    },
    {
      "id": "b1108baf-8d65-4dd5-b4ac-525da3a3a2a3",
      "cell_type": "markdown",
      "source": "## Lenguajes de Ciencia de Datos\n### Algunos de los lenguajes más utilizados en ciencia de datos son:\n1. Python\n2. R\n3. SQL\n4. Julia\n5. Scala",
      "metadata": {}
    },
    {
      "id": "a3592927-30e7-4b2f-9978-9428e923297f",
      "cell_type": "markdown",
      "source": "Ejercicio 5: Crea una celda Markdown para listar bibliotecas de ciencia de datos.",
      "metadata": {}
    },
    {
      "id": "f364df7b-b04d-41e5-a24e-a0ea1280950e",
      "cell_type": "markdown",
      "source": "## Bibliotecas de ciencia de datos.\n### Entre las bibliotecas populares de ciencia de datos en Python:\n- Numpy\n- Pandas\n- Matplotlib\n- Scikit-learn\n- TensorFlow\n- Keras",
      "metadata": {}
    },
    {
      "id": "db541530-75c0-4265-8192-2d2b504b8791",
      "cell_type": "markdown",
      "source": "Ejercicio 6: Crea una celda Markdown con una tabla de herramientas de Ciencia de Datos.\n",
      "metadata": {}
    },
    {
      "id": "c2f2b221-f7bb-4526-9753-7974b5e4e579",
      "cell_type": "markdown",
      "source": "## Herramientas de Ciencia de Datos\n\n| Herramienta         | Uso Principal                                      |\n|---------------------|----------------------------------------------------|\n| Jupyter Notebook    | Entorno interactivo para desarrollo y documentación|\n| GitHub              | Control de versiones y hospedaje de repositorios   |\n| RStudio             | IDE para análisis de datos con R                   |\n| Apache Hadoop       | Procesamiento distribuido de grandes volúmenes de datos |\n| IBM Watson Studio   | Plataforma en la nube para proyectos de Data Science|",
      "metadata": {}
    },
    {
      "id": "8b2f9cc5-1653-4ecf-990d-3e63996ab7cf",
      "cell_type": "markdown",
      "source": "Ejercicio 7: Crea una celda Markdown introduciendo ejemplos de expresiones aritméticas",
      "metadata": {}
    },
    {
      "id": "2e61a095-396a-4c2d-a233-f568ae85f963",
      "cell_type": "markdown",
      "source": "Ejemplos de contenido:\n\n## Ejemplos de Expresiones Aritméticas\nPodemos realizar operaciones como:\n- Suma: 2 + 2 = 4\n- Resta: 5 - 3 = 2\n- Multiplicación: 3 * 4 = 12\n- División: 10 / 2 = 5",
      "metadata": {}
    },
    {
      "id": "00a5e5af-e595-423f-9492-1754427cebdd",
      "cell_type": "markdown",
      "source": "Ejercicio 8: Crea una celda de código para multiplicar y sumar números.",
      "metadata": {}
    },
    {
      "id": "8a928ee3-2f47-4df6-bbc6-d6cbdb7693a7",
      "cell_type": "code",
      "source": "# Multiplicar 3 por 4\nmultiplicacion = 3 * 4\nprint(\"El resultado de 3 * 4 es:\", multiplicacion)\n\n# Sumar 5 más 7\nsuma = 5 + 7\nprint(\"El resultado de 5 + 7 es:\", suma)",
      "metadata": {
        "trusted": true
      },
      "outputs": [
        {
          "name": "stdout",
          "output_type": "stream",
          "text": "El resultado de 3 * 4 es: 12\nEl resultado de 5 + 7 es: 12\n"
        }
      ],
      "execution_count": 2
    },
    {
      "id": "ee10b4c5-e94b-4dae-b86d-45ada63be31b",
      "cell_type": "markdown",
      "source": "Ejercicio 9: Crea una celda de código para convertir minutos en horas.",
      "metadata": {}
    },
    {
      "id": "4dbc03cb-76c4-48e3-b915-7d808af38e5b",
      "cell_type": "code",
      "source": "# Supongamos que tenemos 200 minutos\nminutos = 200\nhoras = minutos / 60\nprint(minutos, \"minutos son\", horas, \"horas.\")",
      "metadata": {
        "trusted": true
      },
      "outputs": [
        {
          "name": "stdout",
          "output_type": "stream",
          "text": "200 minutos son 3.3333333333333335 horas.\n"
        }
      ],
      "execution_count": 3
    },
    {
      "id": "74cebae8-6cf4-4cff-b7b1-340d9dd49602",
      "cell_type": "markdown",
      "source": "Ejercicio 10: Inserta una celda de código para listar objetivos.",
      "metadata": {}
    },
    {
      "id": "2b2d70b4-2206-4ec0-8ef5-de40a7e3e4c0",
      "cell_type": "code",
      "source": "objetivos = [\n    \"Aprender los fundamentos de Python para Data Science\",\n    \"Familiarizarme con las bibliotecas más usadas\",\n]\n\nprint(\"Mis objetivos en este curso son:\")\nfor idx, obj in enumerate(objetivos, 1):\n    print(f\"{idx}. {obj}\")",
      "metadata": {
        "trusted": true
      },
      "outputs": [
        {
          "name": "stdout",
          "output_type": "stream",
          "text": "Mis objetivos en este curso son:\n1. Aprender los fundamentos de Python para Data Science\n2. Familiarizarme con las bibliotecas más usadas\n"
        }
      ],
      "execution_count": 4
    },
    {
      "id": "7403e2fa-ec56-41c8-97ae-4994e2dfa3d0",
      "cell_type": "markdown",
      "source": "Ejercicio 11: Crea una celda markdown para indicar el nombre del autor.",
      "metadata": {}
    },
    {
      "id": "d9d99764-91aa-4700-82e4-a5fa8a6c9dec",
      "cell_type": "markdown",
      "source": "## Autor\n**Eduardo Correa Marchant**",
      "metadata": {}
    }
  ]
}